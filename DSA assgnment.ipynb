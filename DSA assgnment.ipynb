{
 "cells": [
  {
   "cell_type": "code",
   "execution_count": 1,
   "id": "37f3fc44",
   "metadata": {},
   "outputs": [
    {
     "name": "stdout",
     "output_type": "stream",
     "text": [
      "Enter the sum  : 5\n",
      "(1,4) (2,3) (4,1) (3,2) "
     ]
    }
   ],
   "source": [
    "#Q1. Write a program to find all pairs of an integer array whose sum is equal to a given number?\n",
    "\n",
    "\n",
    "def sum_from_array():\n",
    "    array = [1,2,4,5,7,8,3,6]\n",
    "    sum = int(input(\"Enter the sum  : \"))\n",
    "    for i in array:\n",
    "        for j in array:\n",
    "            if i + j == sum:\n",
    "                print(f\"({i},{j})\",end=\" \")\n",
    "            \n",
    "\n",
    "sum_from_array()"
   ]
  },
  {
   "cell_type": "code",
   "execution_count": 2,
   "id": "3064bd1f",
   "metadata": {},
   "outputs": [
    {
     "name": "stdout",
     "output_type": "stream",
     "text": [
      "[50, 40, 30, 20, 10]\n"
     ]
    }
   ],
   "source": [
    "#Q2. Write a program to reverse an array in place? In place means you cannot create a new array. You have to update the original array.\n",
    "\n",
    "def reversearray(A, start, end):\n",
    "  while start < end:\n",
    "    A[start], A[end] = A[end], A[start]\n",
    "    start += 1\n",
    "    end -= 1\n",
    "# Driver function to test above function\n",
    "A = [10, 20, 30, 40, 50]\n",
    "reversearray(A, 0, 4)\n",
    "print(A)"
   ]
  },
  {
   "cell_type": "code",
   "execution_count": 3,
   "id": "fa60661d",
   "metadata": {},
   "outputs": [
    {
     "name": "stdout",
     "output_type": "stream",
     "text": [
      "Strings are rotations of each other\n"
     ]
    }
   ],
   "source": [
    "#Q3. Write a program to check if two strings are a rotation of each other?\n",
    "\n",
    "def checkString(s1, s2, indexFound, Size):\n",
    "    for i in range(Size):\n",
    " \n",
    "        # check whether the character is equal or not\n",
    "        if(s1[i] != s2[(indexFound + i) % Size]):\n",
    "            return False\n",
    " \n",
    "        # %Size keeps (indexFound+i) in bounds,\n",
    "        # since it ensures it's value is always less than Size\n",
    "    return True\n",
    " \n",
    " \n",
    "# driver code\n",
    "s1 = \"abcd\"\n",
    "s2 = \"cdab\"\n",
    " \n",
    "if(len(s1) != len(s2)):\n",
    "    print(\"s2 is not a rotation on s1\")\n",
    " \n",
    "else:\n",
    " \n",
    "    indexes = []  # store occurrences of the first character of s1\n",
    "    Size = len(s1)\n",
    "    firstChar = s1[0]\n",
    "    for i in range(Size):\n",
    "        if(s2[i] == firstChar):\n",
    "            indexes.append(i)\n",
    " \n",
    "    isRotation = False\n",
    " \n",
    "    # check if the strings are rotation of each other\n",
    "    # for every occurrence of firstChar in s2\n",
    "    for idx in indexes:\n",
    " \n",
    "        isRotation = checkString(s1, s2, idx, Size)\n",
    " \n",
    "        if(isRotation):\n",
    "            break\n",
    " \n",
    "    if(isRotation):\n",
    "        print(\"Strings are rotations of each other\")\n",
    "    else:\n",
    "        print(\"Strings are not rotations of each other\")"
   ]
  },
  {
   "cell_type": "code",
   "execution_count": 4,
   "id": "ac8e8f2d",
   "metadata": {},
   "outputs": [
    {
     "name": "stdout",
     "output_type": "stream",
     "text": [
      "First non-repeating character is h\n"
     ]
    }
   ],
   "source": [
    "#Q4. Write a program to print the first non-repeated character from a string?\n",
    "\n",
    "string = \"hindi\"\n",
    "index = -1\n",
    "fnc = \"\"\n",
    "for i in string:\n",
    "    if string.count(i) == 1:\n",
    "        fnc = i\n",
    "        break\n",
    "    else:\n",
    "        index += 1\n",
    "if index == 1:\n",
    "    print(\"Either all characters are repeating or string is empty\")\n",
    "else:\n",
    "    print(\"First non-repeating character is\", fnc)"
   ]
  },
  {
   "cell_type": "code",
   "execution_count": 5,
   "id": "2621ebe1",
   "metadata": {},
   "outputs": [
    {
     "name": "stdout",
     "output_type": "stream",
     "text": [
      "Move disk 1 from source A to destination C\n",
      "Move disk 2 from source A to destination B\n",
      "Move disk 1 from source C to destination B\n",
      "Move disk 3 from source A to destination C\n",
      "Move disk 1 from source B to destination A\n",
      "Move disk 2 from source B to destination C\n",
      "Move disk 1 from source A to destination C\n",
      "Move disk 4 from source A to destination B\n",
      "Move disk 1 from source C to destination B\n",
      "Move disk 2 from source C to destination A\n",
      "Move disk 1 from source B to destination A\n",
      "Move disk 3 from source C to destination B\n",
      "Move disk 1 from source A to destination C\n",
      "Move disk 2 from source A to destination B\n",
      "Move disk 1 from source C to destination B\n"
     ]
    }
   ],
   "source": [
    "#Q5. Read about the Tower of Hanoi algorithm. Write a program to implement it?\n",
    "\n",
    "def TowerOfHanoi(n , source, destination, auxiliary):\n",
    "    if n==1:\n",
    "        print (\"Move disk 1 from source\",source,\"to destination\",destination)\n",
    "        return\n",
    "    TowerOfHanoi(n-1, source, auxiliary, destination)\n",
    "    print (\"Move disk\",n,\"from source\",source,\"to destination\",destination)\n",
    "    TowerOfHanoi(n-1, auxiliary, destination, source)\n",
    "         \n",
    "# Driver code\n",
    "n = 4\n",
    "TowerOfHanoi(n,'A','B','C')\n",
    "# A, C, B are the name of rods"
   ]
  },
  {
   "cell_type": "code",
   "execution_count": 6,
   "id": "1f81f90e",
   "metadata": {},
   "outputs": [
    {
     "name": "stdout",
     "output_type": "stream",
     "text": [
      "((A-(B/C))*((A/K)-L))\n"
     ]
    }
   ],
   "source": [
    "#Q6. Read about infix, prefix, and postfix expressions. Write a program to convert postfix to prefix expression.?\n",
    "\n",
    "def prefixToInfix(prefix):\n",
    "    stack = []\n",
    "     \n",
    "    # read prefix in reverse order\n",
    "    i = len(prefix) - 1\n",
    "    while i >= 0:\n",
    "        if not isOperator(prefix[i]):\n",
    "             \n",
    "            # symbol is operand\n",
    "            stack.append(prefix[i])\n",
    "            i -= 1\n",
    "        else:\n",
    "           \n",
    "            # symbol is operator\n",
    "            str = \"(\" + stack.pop() + prefix[i] + stack.pop() + \")\"\n",
    "            stack.append(str)\n",
    "            i -= 1\n",
    "     \n",
    "    return stack.pop()\n",
    " \n",
    "def isOperator(c):\n",
    "    if c == \"*\" or c == \"+\" or c == \"-\" or c == \"/\" or c == \"^\" or c == \"(\" or c == \")\":\n",
    "        return True\n",
    "    else:\n",
    "        return False\n",
    " \n",
    "# Driver code\n",
    "if __name__==\"__main__\":\n",
    "    str = \"*-A/BC-/AKL\"\n",
    "    print(prefixToInfix(str))\n",
    "     "
   ]
  },
  {
   "cell_type": "code",
   "execution_count": 7,
   "id": "1cb0bfa2",
   "metadata": {},
   "outputs": [
    {
     "name": "stdout",
     "output_type": "stream",
     "text": [
      "Balanced\n"
     ]
    }
   ],
   "source": [
    "#Q7. Write a program to convert prefix expression to infix expression.?\n",
    "\n",
    "def areBracketsBalanced(expr):\n",
    "    stack = []\n",
    " \n",
    "    # Traversing the Expression\n",
    "    for char in expr:\n",
    "        if char in [\"(\", \"{\", \"[\"]:\n",
    " \n",
    "            # Push the element in the stack\n",
    "            stack.append(char)\n",
    "        else:\n",
    " \n",
    "            # IF current character is not opening\n",
    "            # bracket, then it must be closing.\n",
    "            # So stack cannot be empty at this point.\n",
    "            if not stack:\n",
    "                return False\n",
    "            current_char = stack.pop()\n",
    "            if current_char == '(':\n",
    "                if char != \")\":\n",
    "                    return False\n",
    "            if current_char == '{':\n",
    "                if char != \"}\":\n",
    "                    return False\n",
    "            if current_char == '[':\n",
    "                if char != \"]\":\n",
    "                    return False\n",
    " \n",
    "    # Check Empty Stack\n",
    "    if stack:\n",
    "        return False\n",
    "    return True\n",
    " \n",
    " \n",
    "# Driver Code\n",
    "if __name__ == \"__main__\":\n",
    "    expr = \"{()}[]\"\n",
    " \n",
    "    # Function call\n",
    "    if areBracketsBalanced(expr):\n",
    "        print(\"Balanced\")\n",
    "    else:\n",
    "        print(\"Not Balanced\")\n",
    " "
   ]
  },
  {
   "cell_type": "code",
   "execution_count": 8,
   "id": "3b0ee442",
   "metadata": {},
   "outputs": [
    {
     "name": "stdout",
     "output_type": "stream",
     "text": [
      "deque([9, 13, 34, 456, 344])\n",
      "deque([344, 456, 34, 13, 9])\n"
     ]
    }
   ],
   "source": [
    "#Q9. Write a program to reverse a stack\n",
    "\n",
    "from collections import deque\n",
    "\n",
    "class stack:\n",
    "    def __init__(self):\n",
    "        self.data = deque()\n",
    "\n",
    "    def push(self,element):\n",
    "        self.data.append(element)\n",
    "        return self.data\n",
    "    \n",
    "    def view(self):\n",
    "        if self.isEmpty():\n",
    "            print(\"your stack is empty\")\n",
    "        else:\n",
    "            return self.data\n",
    "    \n",
    "    def isEmpty(self):\n",
    "        if len(self.data) == 0:\n",
    "            return True\n",
    "        return False \n",
    "    \n",
    "    def reverse(self):\n",
    "        data_ = self.data.reverse()\n",
    "        return(data_)\n",
    "   \n",
    "        \n",
    "\n",
    "                \n",
    "                \n",
    "\n",
    "\n",
    "             \n",
    "    \n",
    "    \n",
    "    \n",
    "\n",
    "\n",
    "obj = stack()\n",
    "obj.push(9)\n",
    "obj.push(13)\n",
    "obj.push(34)\n",
    "obj.push(456)\n",
    "obj.push(344)\n",
    "print(obj.view())\n",
    "obj.reverse()\n",
    "print(obj.view())"
   ]
  },
  {
   "cell_type": "code",
   "execution_count": 9,
   "id": "cb1cc9bb",
   "metadata": {},
   "outputs": [
    {
     "name": "stdout",
     "output_type": "stream",
     "text": [
      "Smallest element is: 4\n"
     ]
    }
   ],
   "source": [
    "#Q10. Write a program to find the smallest number using a stack.\n",
    "# list of numbers\n",
    "list1 = [10, 20, 4, 45, 99]\n",
    " \n",
    "# sorting the list\n",
    "list1.sort()\n",
    " \n",
    "# printing the first element\n",
    "print(\"Smallest element is:\", list1[0])\n",
    "\n",
    "    \n",
    "        \n",
    "\n",
    "                \n",
    "                \n",
    "\n",
    "\n",
    "             \n",
    "    \n",
    "    \n",
    "    "
   ]
  },
  {
   "cell_type": "code",
   "execution_count": 1,
   "id": "37c4538f",
   "metadata": {},
   "outputs": [
    {
     "name": "stdout",
     "output_type": "stream",
     "text": [
      "smallest element is 1\n",
      "second smallest element is 9\n"
     ]
    }
   ],
   "source": [
    "#Q10. Write a program to find the smallest number using a stack.\n",
    "arr = [111, 13, 25, 9, 34, 1]\n",
    "n = len(arr)\n",
    "arr.sort()\n",
    " \n",
    "\n",
    "print(\"smallest element is \"+str(arr[0]))\n",
    "print(\"second smallest element is \"+str(arr[1]))"
   ]
  },
  {
   "cell_type": "code",
   "execution_count": 9,
   "id": "a8ae6bad",
   "metadata": {},
   "outputs": [
    {
     "name": "stdout",
     "output_type": "stream",
     "text": [
      "Balanced\n",
      "Not Balanced\n"
     ]
    }
   ],
   "source": [
    "# Q 8.Write a program to check if all the brackets are closed in a given code snippet ?.\n",
    "def isBalanced(exp):\n",
    " \n",
    "    # Initialising Variables\n",
    "    flag = True\n",
    "    count = 0\n",
    " \n",
    "    # Traversing the Expression\n",
    "    for i in range(len(exp)):\n",
    "        if (exp[i] == '('):\n",
    "            count += 1\n",
    "        else:\n",
    "             \n",
    "            # It is a closing parenthesis\n",
    "            count -= 1\n",
    " \n",
    "        if (count < 0):\n",
    " \n",
    "            # This means there are\n",
    "            # more closing parenthesis\n",
    "            # than opening\n",
    "            flag = False\n",
    "            break\n",
    " \n",
    "    # If count is not zero ,\n",
    "    # it means there are more\n",
    "    # opening parenthesis\n",
    "    if (count != 0):\n",
    "        flag = False\n",
    " \n",
    "    return flag\n",
    " \n",
    "# Driver code\n",
    "if __name__ == '__main__':\n",
    "     \n",
    " \n",
    "    exp1 = \"((()))()()\"\n",
    " \n",
    "    if (isBalanced(exp1)):\n",
    "        print(\"Balanced\")\n",
    "    else:\n",
    "        print(\"Not Balanced\")\n",
    " \n",
    "    exp2 = \"())((())\"\n",
    " \n",
    "    if (isBalanced(exp2)):\n",
    "        print(\"Balanced\")\n",
    "    else:\n",
    "        print(\"Not Balanced\")"
   ]
  },
  {
   "cell_type": "code",
   "execution_count": null,
   "id": "1ea67e35",
   "metadata": {},
   "outputs": [],
   "source": []
  }
 ],
 "metadata": {
  "kernelspec": {
   "display_name": "Python 3 (ipykernel)",
   "language": "python",
   "name": "python3"
  },
  "language_info": {
   "codemirror_mode": {
    "name": "ipython",
    "version": 3
   },
   "file_extension": ".py",
   "mimetype": "text/x-python",
   "name": "python",
   "nbconvert_exporter": "python",
   "pygments_lexer": "ipython3",
   "version": "3.10.9"
  }
 },
 "nbformat": 4,
 "nbformat_minor": 5
}
